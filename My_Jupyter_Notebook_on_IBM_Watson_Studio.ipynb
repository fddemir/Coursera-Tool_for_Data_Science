{
 "cells": [
  {
   "cell_type": "markdown",
   "id": "2d959bbd-2418-493d-b886-7883228d9759",
   "metadata": {},
   "source": [
    "# My Jupyter Notebook on IBM Watson Studio"
   ]
  },
  {
   "cell_type": "markdown",
   "id": "e474f36a-5e93-4616-9814-b8aa04773b73",
   "metadata": {},
   "source": [
    "**Fatih Demir**"
   ]
  },
  {
   "cell_type": "markdown",
   "id": "0260cc69-0bba-4c00-be04-b2a9ed43bbfd",
   "metadata": {},
   "source": [
    "Indusrial Engineer"
   ]
  },
  {
   "cell_type": "markdown",
   "id": "4923cde7-31ee-4836-b683-fa7cfc9141bd",
   "metadata": {},
   "source": [
    "*I love data science and want to learn it down to the last detail. Because there will be good business opportunities now and in the future. It is necessary to use data science in the best way, not only as a business, but also to make the world better.*"
   ]
  },
  {
   "cell_type": "markdown",
   "id": "13d51ce2-b122-4333-9fe9-42af3fcae042",
   "metadata": {},
   "source": [
    "### A simple function that does the addition of two numbers."
   ]
  },
  {
   "cell_type": "code",
   "execution_count": 3,
   "id": "acd8c141-3935-4023-93a1-9e3fb5fba0f7",
   "metadata": {},
   "outputs": [
    {
     "data": {
      "text/plain": [
       "110"
      ]
     },
     "execution_count": 3,
     "metadata": {},
     "output_type": "execute_result"
    }
   ],
   "source": [
    "def sum_num(a,b):\n",
    "    return a+b\n",
    "sum_num(50,60)"
   ]
  },
  {
   "cell_type": "markdown",
   "id": "6494efb7-4406-4fdd-93de-4b353cbd389b",
   "metadata": {
    "jp-MarkdownHeadingCollapsed": true,
    "tags": []
   },
   "source": [
    "Hello friends! This is a bullet list\n",
    "* Bullet list first row.\n",
    "* Bullet list second row.\n",
    "* Bullet list third row.\n",
    "\n",
    "This is ordered lists\n",
    "1. Ordered lists1\n",
    "2. Ordered lists2\n",
    "3. Ordered lists3\n",
    "\n",
    "`This is a highlight use`\n",
    "\n",
    "***\n",
    "\n",
    "This is horizontal rule!\n",
    "\n",
    "***\n",
    "\n",
    "\n",
    "To reach the Coursera homepage <a href=\"https://www.coursera.org/\" target=\"_blank\">this link</a>."
   ]
  },
  {
   "cell_type": "code",
   "execution_count": 6,
   "id": "2131ab5d-fa89-4387-8559-f82d69dacc60",
   "metadata": {},
   "outputs": [
    {
     "name": "stdout",
     "output_type": "stream",
     "text": [
      "Hello friends!\n"
     ]
    }
   ],
   "source": [
    "print('Hello friends!')"
   ]
  },
  {
   "cell_type": "code",
   "execution_count": 7,
   "id": "1b4d4d6c-1114-481b-b0c0-0829c3e39c68",
   "metadata": {},
   "outputs": [
    {
     "name": "stdout",
     "output_type": "stream",
     "text": [
      "Thanks for grading!\n"
     ]
    }
   ],
   "source": [
    "print('Thanks for grading!')"
   ]
  },
  {
   "cell_type": "code",
   "execution_count": null,
   "id": "7db99df6-57fc-4550-a01e-9d4a2d7431a8",
   "metadata": {},
   "outputs": [],
   "source": []
  },
  {
   "cell_type": "code",
   "execution_count": null,
   "id": "04a4c654-887a-4e47-830f-b7afdd6901f3",
   "metadata": {},
   "outputs": [],
   "source": []
  }
 ],
 "metadata": {
  "kernelspec": {
   "display_name": "Python 3 (ipykernel)",
   "language": "python",
   "name": "python3"
  },
  "language_info": {
   "codemirror_mode": {
    "name": "ipython",
    "version": 3
   },
   "file_extension": ".py",
   "mimetype": "text/x-python",
   "name": "python",
   "nbconvert_exporter": "python",
   "pygments_lexer": "ipython3",
   "version": "3.8.12"
  }
 },
 "nbformat": 4,
 "nbformat_minor": 5
}
